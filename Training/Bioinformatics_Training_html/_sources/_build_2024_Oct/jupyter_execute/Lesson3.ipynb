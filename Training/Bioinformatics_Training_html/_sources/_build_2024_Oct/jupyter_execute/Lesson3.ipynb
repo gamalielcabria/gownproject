{
 "cells": [
  {
   "cell_type": "markdown",
   "id": "5c7a9774-6b64-48c3-8c5b-d16249052972",
   "metadata": {
    "editable": true,
    "slideshow": {
     "slide_type": ""
    },
    "tags": []
   },
   "source": [
    "# Bioinformatics Training: Lesson 3\n",
    "\n",
    "## Basic bioinformatics commands: \n",
    "\n",
    "There are tons of built-in commands within Linux OSes that are very useful for bioinformatic analysis. In this section, we will examine few of the most used commands used in bioinformatis. We will adapt content from the Happy Belly Bioinformatics.\n",
    "\n",
    "### cut\n",
    "\n",
    "### grep\n",
    "\n",
    "### paste\n",
    "\n",
    "### cat\n",
    "\n",
    "### sed\n",
    "\n",
    "### awk\n",
    "\n",
    "### tr\n",
    "\n",
    "## BASH scripting\n",
    "\n",
    "### Variables\n",
    "\n",
    "### Loops\n",
    "\n",
    "### Scripting"
   ]
  },
  {
   "cell_type": "markdown",
   "id": "c1a937d0-dceb-47d8-af22-195b72acd583",
   "metadata": {},
   "source": [
    "# Acknowledgement\n",
    "This tutorial is adapted from *Intro to Unix* from Happy Belly Bioinformatics by Michael D. Lee or known as [AstroBioMike in github](https://astrobiomike.github.io/unix/).\n",
    "\n",
    "# Citation\n",
    "[1] Lee, M. (2019). Happy Belly Bioinformatics: an open-source resource dedicated to helping biologists utilize bioinformatics. Journal of Open Source Education, 4(41), 53, https://doi.org/10.21105/jose.00053\n"
   ]
  },
  {
   "cell_type": "code",
   "execution_count": 1,
   "id": "362aae3d-455f-4a3d-8a52-24a6d19729ab",
   "metadata": {
    "editable": true,
    "slideshow": {
     "slide_type": ""
    },
    "tags": [
     "hide-cell"
    ]
   },
   "outputs": [
    {
     "data": {
      "text/html": [
       "<style>\n",
       "# Global Table parameters\n",
       "# table {float:center; width:70%}\n",
       "# tr {float: center; color:black}\n",
       "# th {float: center; color:grey}\n",
       "\n",
       ".term_table table{\n",
       "    float: center;\n",
       "}\n",
       "\n",
       ".term_table table tbody td:nth-child(1){\n",
       "    font-weight: bold;\n",
       "    text-align: center;\n",
       "    width: 200px;\n",
       "    float:center\n",
       "}\n",
       "\n",
       ".term_table table tbody td:nth-child(2){\n",
       "    text-align: center;\n",
       "    width: 300px;\n",
       "    float:center\n",
       "}\n",
       "\n",
       ".term_table table tbody td:nth-child(3){\n",
       "    text-align: center;\n",
       "    width: 300px;\n",
       "    float:center\n",
       "}\n",
       "\n",
       ".term_table table thead tr{\n",
       "    background-color: #b3b3b3;\n",
       "    border: 1px solid black\n",
       "}\n",
       "\n",
       ".term_table table tbody tr:nth-child(even){\n",
       "    background-color:#e5e5e\n",
       "}\n",
       "\n",
       ".image {\n",
       "    margin-left: auto;\n",
       "    margin-right: auto;\n",
       "    width: 50%;\n",
       "}\n",
       "\n",
       ".image2 {\n",
       "    margin-left: auto;\n",
       "    margin-right: auto;\n",
       "    width: 40%;\n",
       "}\n",
       "\n",
       ".image3 {\n",
       "    margin-left: auto;\n",
       "    margin-right: auto;\n",
       "    width: 25%;\n",
       "}\n",
       "\n",
       "</style>\n",
       "    \n"
      ],
      "text/plain": [
       "<IPython.core.display.HTML object>"
      ]
     },
     "metadata": {},
     "output_type": "display_data"
    }
   ],
   "source": [
    "%%html\n",
    "<style>\n",
    "# Global Table parameters\n",
    "# table {float:center; width:70%}\n",
    "# tr {float: center; color:black}\n",
    "# th {float: center; color:grey}\n",
    "\n",
    ".term_table table{\n",
    "    float: center;\n",
    "}\n",
    "\n",
    ".term_table table tbody td:nth-child(1){\n",
    "    font-weight: bold;\n",
    "    text-align: center;\n",
    "    width: 200px;\n",
    "    float:center\n",
    "}\n",
    "\n",
    ".term_table table tbody td:nth-child(2){\n",
    "    text-align: center;\n",
    "    width: 300px;\n",
    "    float:center\n",
    "}\n",
    "\n",
    ".term_table table tbody td:nth-child(3){\n",
    "    text-align: center;\n",
    "    width: 300px;\n",
    "    float:center\n",
    "}\n",
    "\n",
    ".term_table table thead tr{\n",
    "    background-color: #b3b3b3;\n",
    "    border: 1px solid black\n",
    "}\n",
    "\n",
    ".term_table table tbody tr:nth-child(even){\n",
    "    background-color:#e5e5e\n",
    "}\n",
    "\n",
    ".image {\n",
    "    margin-left: auto;\n",
    "    margin-right: auto;\n",
    "    width: 50%;\n",
    "}\n",
    "\n",
    ".image2 {\n",
    "    margin-left: auto;\n",
    "    margin-right: auto;\n",
    "    width: 40%;\n",
    "}\n",
    "\n",
    ".image3 {\n",
    "    margin-left: auto;\n",
    "    margin-right: auto;\n",
    "    width: 25%;\n",
    "}\n",
    "\n",
    "</style>\n",
    "    "
   ]
  }
 ],
 "metadata": {
  "kernelspec": {
   "display_name": "Python 3 (ipykernel)",
   "language": "python",
   "name": "python3"
  },
  "language_info": {
   "codemirror_mode": {
    "name": "ipython",
    "version": 3
   },
   "file_extension": ".py",
   "mimetype": "text/x-python",
   "name": "python",
   "nbconvert_exporter": "python",
   "pygments_lexer": "ipython3",
   "version": "3.10.14"
  }
 },
 "nbformat": 4,
 "nbformat_minor": 5
}