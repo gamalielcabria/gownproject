{
 "cells": [
  {
   "cell_type": "markdown",
   "id": "3bd4f48c-8c3b-42f0-a48a-a4c2cdeea501",
   "metadata": {
    "editable": true,
    "slideshow": {
     "slide_type": ""
    },
    "tags": []
   },
   "source": [
    "# Bioinformatics 101\n",
    "\n",
    "##  Welcome to Bioinformatics \n",
    "  \n",
    "Hi, you might be wondering why are you learning bioinformatics. It may look intimidating but it is just similar to learning a new language. Better! It is learning a way to learn new language easily.\n",
    "\n",
    "<div class=image>\n",
    "<img src=\"https://facts.net/wp-content/uploads/2023/09/19-astounding-facts-about-bioinformatics-1694494466.jpeg\"> </div>\n",
    "\n",
    "Bioinformatics is a useful tool in today's research environment. In academia, industry and medical fields, bioinformatics allowed enhance and efficient understanding of biological processes. Through Bioinformatics, we are able to connect genetic content and their function with the cell and the larger environment as a whole.\n",
    "\n",
    "<br>\n",
    "\n",
    "## What is Bioinformatics\n",
    "\n",
    "Bioinformatics is an intersectional field of biology, computer science and statistics. This important field allows the understanding and analysis ***Big Data*** collected from genomics, proteomics, metabolomics and other *omic* fields using computational tools and techniques into a coherent and easily readable and understandable form of knowledge. The application of bioinformatics ranges from drug discovery, evolutionary analysis, ecological dynamics, criminal forensics and even in social studies, such as anthropological and historical analysis of human/animal/plant migration. \n",
    "\n",
    "In this training, we will cover how we perform bioinformatics. It includes the *command-line interface* and its basic commands, basic useful commands in Unix, BASH, and how to run files in a server. \n",
    "\n",
    "<div class=term_table>\n",
    "\n",
    "|Lessons|Description|\n",
    "|---|---|\n",
    "|Lesson 1|Unix-environment and the Command-Line|\n",
    "|Lesson 2|File Types in Bioinformatics|\n",
    "|Lesson 3|Basic Commands and BASH Scripting|\n",
    "\n",
    "\n",
    "</div>\n",
    "\n",
    "You can access the guide here:\n",
    "\n",
    "```{tableofcontents}\n",
    "```\n",
    "\n"
   ]
  },
  {
   "cell_type": "code",
   "execution_count": 2,
   "id": "f5e3da28-6ba1-4dc7-bd2b-6ea1924be731",
   "metadata": {
    "editable": true,
    "slideshow": {
     "slide_type": ""
    },
    "tags": [
     "hide-cell"
    ]
   },
   "outputs": [
    {
     "data": {
      "text/html": [
       "<style>\n",
       "# Global Table parameters\n",
       "# table {float:center; width:70%}\n",
       "# tr {float: center; color:black}\n",
       "# th {float: center; color:grey}\n",
       "\n",
       ".term_table table{\n",
       "    float: center;\n",
       "}\n",
       "\n",
       ".term_table table tbody td:nth-child(1){\n",
       "    font-weight: bold;\n",
       "    text-align: center;\n",
       "    width: 200px;\n",
       "    float:center\n",
       "}\n",
       "\n",
       ".term_table table tbody td:nth-child(2){\n",
       "    text-align: center;\n",
       "    width: 300px;\n",
       "    float:center\n",
       "}\n",
       "\n",
       ".term_table table thead tr{\n",
       "    background-color: #b3b3b3;\n",
       "    border: 1px solid black\n",
       "}\n",
       "\n",
       ".term_table table tbody tr:nth-child(even){\n",
       "    background-color:#e5e5e\n",
       "}\n",
       "\n",
       ".image {\n",
       "    margin-left: auto;\n",
       "    margin-right: auto;\n",
       "    width: 50%;\n",
       "}\n",
       "\n",
       "</style>\n"
      ],
      "text/plain": [
       "<IPython.core.display.HTML object>"
      ]
     },
     "metadata": {},
     "output_type": "display_data"
    }
   ],
   "source": [
    "%%html\n",
    "<style>\n",
    "# Global Table parameters\n",
    "# table {float:center; width:70%}\n",
    "# tr {float: center; color:black}\n",
    "# th {float: center; color:grey}\n",
    "\n",
    ".term_table table{\n",
    "    float: center;\n",
    "}\n",
    "\n",
    ".term_table table tbody td:nth-child(1){\n",
    "    font-weight: bold;\n",
    "    text-align: center;\n",
    "    width: 200px;\n",
    "    float:center\n",
    "}\n",
    "\n",
    ".term_table table tbody td:nth-child(2){\n",
    "    text-align: center;\n",
    "    width: 300px;\n",
    "    float:center\n",
    "}\n",
    "\n",
    ".term_table table thead tr{\n",
    "    background-color: #b3b3b3;\n",
    "    border: 1px solid black\n",
    "}\n",
    "\n",
    ".term_table table tbody tr:nth-child(even){\n",
    "    background-color:#e5e5e\n",
    "}\n",
    "\n",
    ".image {\n",
    "    margin-left: auto;\n",
    "    margin-right: auto;\n",
    "    width: 50%;\n",
    "}\n",
    "\n",
    "</style>"
   ]
  },
  {
   "cell_type": "code",
   "execution_count": null,
   "id": "fda36114-3e50-4e9f-877a-3791921cb4d3",
   "metadata": {},
   "outputs": [],
   "source": []
  }
 ],
 "metadata": {
  "kernelspec": {
   "display_name": "Python 3 (ipykernel)",
   "language": "python",
   "name": "python3"
  },
  "language_info": {
   "codemirror_mode": {
    "name": "ipython",
    "version": 3
   },
   "file_extension": ".py",
   "mimetype": "text/x-python",
   "name": "python",
   "nbconvert_exporter": "python",
   "pygments_lexer": "ipython3",
   "version": "3.12.5"
  }
 },
 "nbformat": 4,
 "nbformat_minor": 5
}
